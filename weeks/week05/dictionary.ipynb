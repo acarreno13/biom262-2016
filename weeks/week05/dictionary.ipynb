{
 "cells": [
  {
   "cell_type": "code",
   "execution_count": null,
   "metadata": {
    "collapsed": true
   },
   "outputs": [],
   "source": [
    "#!/usr/bin/env python\n",
    "from random import choice, random\n",
    "\n",
    "ALPHABET = 'abcdefghijklmnopqrstuvwxyz '\n",
    "\n",
    "DICTIONARY = ['my' 'eyes' 'the' 'goggles' 'do' 'nothing']\n",
    "\n",
    "def initialize(parent, num):\n",
    "    \"\"\"Returns num random sequences the length of parent.\"\"\"\n",
    "    return [[choice(ALPHABET) for i in range(len(parent))] for seq in range(num)]\n",
    "\n",
    "def score(seq, target):\n",
    "    \"\"\"Returns number of differences between seq and target.\"\"\"\n",
    "    return sum(map(int, [a != b for a, b in zip(seq, target)]))\n",
    "\n",
    "def select(population, scores):\n",
    "    \"\"\"Returns best sequence and score from population.\"\"\"\n",
    "    scored = zip(scores, population)\n",
    "    scored=sorted(scored)\n",
    "    return scored[0]\n",
    "\n",
    "def breed(parent, num, mutation_rate):\n",
    "    \"\"\"Returns num copies of parent with mutation_rate changes per letter.\"\"\"\n",
    "    result = []\n",
    "    length = len(parent)\n",
    "    for seq in range(num):\n",
    "        curr = parent[:]\n",
    "        for pos in range(length):\n",
    "            if random() <= mutation_rate: curr[pos] = choice(ALPHABET)\n",
    "        result.append(curr)\n",
    "    return result\n",
    "\n",
    "def evolve(target, num=10000, mutation_rate=0.02, generation=0):\n",
    "    \"\"\"Evolves random sequences towards seed, using ALPHABET.\"\"\"\n",
    "    population = initialize(target, num)\n",
    "    while 1: \n",
    "        scores = [score(seq, target) for seq in population]\n",
    "        best_score, best_seq = select(population, scores)\n",
    "        print (generation, '\\t', best_score, '\\t', ''.join(best_seq))\n",
    "        if best_score == 0: break\n",
    "        population = breed(best_seq, num, mutation_rate)\n",
    "        generation += 1\n",
    "\n",
    "evolve('my eyes the goggles do nothing')                                                                      \n",
    "\n"
   ]
  }
 ],
 "metadata": {
  "kernelspec": {
   "display_name": "Python 3",
   "language": "python",
   "name": "python3"
  },
  "language_info": {
   "codemirror_mode": {
    "name": "ipython",
    "version": 3
   },
   "file_extension": ".py",
   "mimetype": "text/x-python",
   "name": "python",
   "nbconvert_exporter": "python",
   "pygments_lexer": "ipython3",
   "version": "3.5.1"
  }
 },
 "nbformat": 4,
 "nbformat_minor": 0
}
