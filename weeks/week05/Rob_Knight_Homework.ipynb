{
 "cells": [
  {
   "cell_type": "code",
   "execution_count": 2,
   "metadata": {
    "collapsed": false
   },
   "outputs": [
    {
     "name": "stdout",
     "output_type": "stream",
     "text": [
      "0 \t 23 \t nrieresrcnegcyggyedxnxcfdebxgz\n",
      "1 \t 22 \t friereslcnegcyggyed nxcfdebxgz\n",
      "2 \t 20 \t friereslcnegcyggyed nxrfoehxgz\n",
      "3 \t 18 \t fyiereslcnegcyggyed nxrnoehxgz\n",
      "4 \t 16 \t fyiereslcnegcyggyed nornoehxgg\n",
      "5 \t 14 \t fyiereslcnegcyggyes nornoehigg\n",
      "6 \t 12 \t fy eresldneggyggyes nornoehigg\n",
      "7 \t 11 \t fy eres dneggyggues nofnoehigg\n",
      "8 \t 10 \t fy eres d eggyggues nofnoehing\n",
      "9 \t 9 \t ey eyes d eggyggves nofnoehing\n",
      "10 \t 8 \t ey eyes d e gyggves nofnoehing\n",
      "11 \t 7 \t ey eyes d e goggves nofnoehing\n",
      "12 \t 6 \t ey eyes d e goggies no noehing\n",
      "13 \t 5 \t dy eyes t e goggies no noehing\n",
      "14 \t 4 \t dy eyes t e goggies do noehing\n",
      "15 \t 3 \t dy eyes t e goggies do nothing\n",
      "16 \t 2 \t dy eyes t e goggles do nothing\n",
      "17 \t 1 \t dy eyes the goggles do nothing\n",
      "18 \t 0 \t my eyes the goggles do nothing\n"
     ]
    }
   ],
   "source": [
    "#!/usr/bin/env python\n",
    "from random import choice, random\n",
    "\n",
    "ALPHABET = 'abcdefghijklmnopqrstuvwxyz '\n",
    "\n",
    "def initialize(parent, num):\n",
    "    \"\"\"Returns num random sequences the length of parent.\"\"\"\n",
    "    return [[choice(ALPHABET) for i in range(len(parent))] for seq in range(num)]\n",
    "\n",
    "def score(seq, target):\n",
    "    \"\"\"Returns number of differences between seq and target.\"\"\"\n",
    "    return sum(map(int, [a != b for a, b in zip(seq, target)]))\n",
    "\n",
    "def select(population, scores):\n",
    "    \"\"\"Returns best sequence and score from population.\"\"\"\n",
    "    scored = zip(scores, population)\n",
    "    scored=sorted(scored)\n",
    "    return scored[0]\n",
    "\n",
    "def breed(parent, num, mutation_rate):\n",
    "    \"\"\"Returns num copies of parent with mutation_rate changes per letter.\"\"\"\n",
    "    result = []\n",
    "    length = len(parent)\n",
    "    for seq in range(num):\n",
    "        curr = parent[:]\n",
    "        for pos in range(length):\n",
    "            if random() <= mutation_rate: curr[pos] = choice(ALPHABET)\n",
    "        result.append(curr)\n",
    "    return result\n",
    "\n",
    "def evolve(target, num=10000, mutation_rate=0.02, generation=0):\n",
    "    \"\"\"Evolves random sequences towards seed, using ALPHABET.\"\"\"\n",
    "    population = initialize(target, num)\n",
    "    while 1: \n",
    "        scores = [score(seq, target) for seq in population]\n",
    "        best_score, best_seq = select(population, scores)\n",
    "        print (generation, '\\t', best_score, '\\t', ''.join(best_seq))\n",
    "        if best_score == 0: break\n",
    "        population = breed(best_seq, num, mutation_rate)\n",
    "        generation += 1\n",
    "\n",
    "evolve('my eyes the goggles do nothing')                                                                      \n"
   ]
  },
  {
   "cell_type": "code",
   "execution_count": null,
   "metadata": {
    "collapsed": true
   },
   "outputs": [],
   "source": []
  },
  {
   "cell_type": "code",
   "execution_count": 3,
   "metadata": {
    "collapsed": false
   },
   "outputs": [
    {
     "data": {
      "text/plain": [
       "range(0, 3)"
      ]
     },
     "execution_count": 3,
     "metadata": {},
     "output_type": "execute_result"
    }
   ],
   "source": [
    "range(3)"
   ]
  },
  {
   "cell_type": "code",
   "execution_count": 6,
   "metadata": {
    "collapsed": false
   },
   "outputs": [
    {
     "data": {
      "text/plain": [
       "6"
      ]
     },
     "execution_count": 6,
     "metadata": {},
     "output_type": "execute_result"
    }
   ],
   "source": [
    "def multiply(x,y):\n",
    "    return x*y\n",
    "multiply(2,3)"
   ]
  },
  {
   "cell_type": "code",
   "execution_count": null,
   "metadata": {
    "collapsed": true
   },
   "outputs": [],
   "source": []
  }
 ],
 "metadata": {
  "kernelspec": {
   "display_name": "Python 3",
   "language": "python",
   "name": "python3"
  },
  "language_info": {
   "codemirror_mode": {
    "name": "ipython",
    "version": 3
   },
   "file_extension": ".py",
   "mimetype": "text/x-python",
   "name": "python",
   "nbconvert_exporter": "python",
   "pygments_lexer": "ipython3",
   "version": "3.5.1"
  }
 },
 "nbformat": 4,
 "nbformat_minor": 0
}
