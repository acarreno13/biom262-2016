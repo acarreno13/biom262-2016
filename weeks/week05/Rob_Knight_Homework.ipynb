{
 "cells": [
  {
   "cell_type": "code",
   "execution_count": 2,
   "metadata": {
    "collapsed": false
   },
   "outputs": [
    {
     "name": "stdout",
     "output_type": "stream",
     "text": [
      "0 \t 53 \t b theqlcandblbvbwcnn ccsaoehtg njgmpaddddtjrl tnfsdhgheqjizuuhf\n",
      "1 \t 51 \t b theqlcandblbvbwcnn ccsaoehsg njgmpaddddtjrl tnfsdhgheqoizuuhf\n",
      "2 \t 49 \t b theqlcandblbvbwcun ccsaoehsg njgspaddddthrl tnfsdhgheqoizuihf\n",
      "3 \t 47 \t b theqlcandblbvbwcun ccsaoehsg njgspaddddthrl tgfsdhgheqoiuuihf\n",
      "4 \t 45 \t b theqlcandblbvbwcun ccsaoehsg njgspaddddthrl tgftdvg eqoiuuihf\n",
      "5 \t 43 \t b theqgcandblbvbwcun ccsaoehsg njgspaddndthrl tgftdvg eqoiuuihf\n",
      "6 \t 41 \t b thiqgcandblbvbwyun ccsaoehsg njgspaddndthrl tgftdvg eqoiuuihf\n",
      "7 \t 40 \t b thimgcandblbvbwyun ccsaoehsg njgspaddndthrl tgftdvg eqoluuihf\n",
      "8 \t 39 \t b thimg andblbvbwyun ccsaoehsg njgspaddndthrl tgftdvg eqoluuihf\n",
      "9 \t 38 \t b thidg andblbvowyun cdsaoehsg njgspaddndthrl tgftdvg eqoluuihf\n",
      "10 \t 37 \t b thidg an blbvowyun cdsaoehsg njgspaddndthrl tgftdvg eqoluuihf\n",
      "11 \t 36 \t b thidg an bibvomyun cdsaoehsg njgspaddndthrl tgftdvg eqoluuihf\n",
      "12 \t 34 \t b thidg an bibvomyun cdsaoehsg njkspaddndthel tgftdvg eqolutihf\n",
      "13 \t 33 \t b thidg an biblomyun cdsaoehsg njkspaddndthel tgftdvg eqolutihf\n",
      "14 \t 32 \t b thidg an bialomyun cdsaoehse njkspaddndthel tgatdvg eqolutihf\n",
      "15 \t 31 \t b thidg an bialogyue cdsaoehse njkspaddndthel tgatdvg eqolutihf\n",
      "16 \t 30 \t b thidg an bialogy e cdsaoehse njkspaddndthel tgatdvg eqolutihf\n",
      "17 \t 29 \t   thidg an bialogy e cdsaoehse njkspaddndthel igatdcg eqolutihv\n",
      "18 \t 28 \t   thidg an bialogy e bdsaoehse njkspaddndthelligatdcg eqolutihl\n",
      "19 \t 26 \t  othidg an bialogy m bdsaoehse njkspaddndthelligatdcg eqolutihl\n",
      "20 \t 25 \t  othidg an bialogy m bds oehse njkspaddndthelligatdcg eqolutihl\n",
      "21 \t 24 \t  othidg an bialogy m bds nehse njkspaddndthelligatdcg eqolutihn\n",
      "22 \t 23 \t  othidg an bialogy m bds nedse njkspaddndthe ligatdcg eqolutihn\n",
      "23 \t 22 \t  othiag an biology m bds nedse njkspaddndthe ligatdcg eqolutihn\n",
      "24 \t 20 \t  othing an biology mabds nedse njkspaddndthe ligatdcg eqolutihn\n",
      "25 \t 19 \t  othing an biology mabds nedse ejkspaddndthe ligatdcg eqolutihn\n",
      "26 \t 18 \t  othing an biology mabbs nedse exkspaddndthe ligatdcg eqolutihn\n",
      "27 \t 17 \t  othing an biology mabbs nedse excspaddndthe ligatdcg eqolutihn\n",
      "28 \t 16 \t  othing an biology mabbs nedse excepaddndthe ligatdcg eqolutihn\n",
      "29 \t 15 \t  othing an biology mabbs nedse excepa dndthe ligatdcg efolutihn\n",
      "30 \t 14 \t  othing an biology mabbs nedse excepa dn the ligatdcg efolutihn\n",
      "31 \t 13 \t  othing an biology mabbs nedse excepa dn the ligat cg efolutihn\n",
      "32 \t 12 \t  othing an biology mabbs nedse excepa dn the ligat cf efolutihn\n",
      "33 \t 11 \t  othing an biology mabbs nedse excepa dn the ligat cf evolutihn\n",
      "34 \t 10 \t  othing an biology mabbs nedse excepa dn the ligat cf evolution\n",
      "35 \t 9 \t  othing an biology mabbs nedse excepa dn the light cf evolution\n",
      "36 \t 8 \t  othing an biology mabbs nedse excepa dn the light of evolution\n",
      "37 \t 7 \t  othing an biology mabbs nedse excepa in the light of evolution\n",
      "38 \t 6 \t  othing an biology mabbs nedse except in the light of evolution\n",
      "39 \t 5 \t  othing an biology maabs sedse except in the light of evolution\n",
      "40 \t 4 \t  othing an biology maabs sense except in the light of evolution\n",
      "41 \t 3 \t  othing an biology maaes sense except in the light of evolution\n",
      "42 \t 2 \t  othing an biology makes sense except in the light of evolution\n",
      "43 \t 1 \t  othing in biology makes sense except in the light of evolution\n",
      "44 \t 0 \t nothing in biology makes sense except in the light of evolution\n"
     ]
    }
   ],
   "source": [
    "#!/usr/bin/env python\n",
    "from random import choice, random\n",
    "\n",
    "ALPHABET = 'abcdefghijklmnopqrstuvwxyz '\n",
    "\n",
    "def initialize(parent, num):\n",
    "    \"\"\"Returns num random sequences the length of parent.\"\"\"\n",
    "    return [[choice(ALPHABET) for i in range(len(parent))] for seq in range(num)]\n",
    "\n",
    "def score(seq, target):\n",
    "    \"\"\"Returns number of differences between seq and target.\"\"\"\n",
    "    return sum(map(int, [a != b for a, b in zip(seq, target)]))\n",
    "\n",
    "def select(population, scores):\n",
    "    \"\"\"Returns best sequence and score from population.\"\"\"\n",
    "    scored = zip(scores, population)\n",
    "    scored=sorted(scored)\n",
    "    return scored[0]\n",
    "\n",
    "def breed(parent, num, mutation_rate):\n",
    "    \"\"\"Returns num copies of parent with mutation_rate changes per letter.\"\"\"\n",
    "    result = []\n",
    "    length = len(parent)\n",
    "    for seq in range(num):\n",
    "        curr = parent[:]\n",
    "        for pos in range(length):\n",
    "            if random() <= mutation_rate: curr[pos] = choice(ALPHABET)\n",
    "        result.append(curr)\n",
    "    return result\n",
    "\n",
    "def evolve(target, num=10000, mutation_rate=0.01, generation=0):\n",
    "    \"\"\"Evolves random sequences towards seed, using ALPHABET.\"\"\"\n",
    "    population = initialize(target, num)\n",
    "    while 1:\n",
    "        scores = [score(seq, target) for seq in population]\n",
    "        best_score, best_seq = select(population, scores)\n",
    "        print (generation, '\\t', best_score, '\\t', ''.join(best_seq))\n",
    "        if best_score == 0: break\n",
    "        population = breed(best_seq, num, mutation_rate)\n",
    "        generation += 1\n",
    "\n",
    "evolve('nothing in biology makes sense except in the light of evolution')                                                                      \n"
   ]
  },
  {
   "cell_type": "code",
   "execution_count": null,
   "metadata": {
    "collapsed": true
   },
   "outputs": [],
   "source": []
  }
 ],
 "metadata": {
  "kernelspec": {
   "display_name": "Python 3",
   "language": "python",
   "name": "python3"
  },
  "language_info": {
   "codemirror_mode": {
    "name": "ipython",
    "version": 3
   },
   "file_extension": ".py",
   "mimetype": "text/x-python",
   "name": "python",
   "nbconvert_exporter": "python",
   "pygments_lexer": "ipython3",
   "version": "3.5.1"
  }
 },
 "nbformat": 4,
 "nbformat_minor": 0
}
